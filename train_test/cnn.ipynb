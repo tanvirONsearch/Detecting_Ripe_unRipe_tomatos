{
 "cells": [
  {
   "cell_type": "code",
   "execution_count": 1,
   "id": "b59d297f",
   "metadata": {},
   "outputs": [],
   "source": [
    "import cv2\n",
    "import numpy as np\n",
    "import os\n",
    "import glob\n",
    "from tensorflow import keras\n",
    "from tensorflow.keras import layers\n",
    "from sklearn.model_selection import train_test_split"
   ]
  },
  {
   "cell_type": "code",
   "execution_count": 2,
   "id": "e0f33b64",
   "metadata": {},
   "outputs": [],
   "source": [
    "# Function to load and preprocess images\n",
    "def load_data(path):\n",
    "    images = []\n",
    "    labels = []\n",
    "\n",
    "    # Load ripe tomatoes images\n",
    "    for file in glob.glob(os.path.join(path, 'Images', 'Riped tomato_*.jpeg')):\n",
    "        img = cv2.imread(file)\n",
    "        img = cv2.resize(img, (224, 224))\n",
    "        images.append(img)\n",
    "        labels.append(1)  # label 1 for ripe tomatoes\n",
    "\n",
    "    # Load unripe tomatoes images\n",
    "    for file in glob.glob(os.path.join(path, 'Images', 'unriped tomato_*.jpeg')):\n",
    "        img = cv2.imread(file)\n",
    "        img = cv2.resize(img, (224, 224))\n",
    "        images.append(img)\n",
    "        labels.append(0)  # label 0 for unripe tomatoes\n",
    "\n",
    "    # Convert to numpy arrays and normalize images to 0-1 range\n",
    "    images = np.array(images) / 255.0\n",
    "    labels = np.array(labels)\n",
    "\n",
    "    # Split data into training and testing sets\n",
    "    train_data, test_data, train_labels, test_labels = train_test_split(images, labels, test_size=0.2, random_state=42)\n",
    "\n",
    "    return train_data, test_data, train_labels, test_labels\n",
    "\n",
    "# Function to create the model\n",
    "def create_model():\n",
    "    model = keras.Sequential([\n",
    "        layers.Conv2D(32, (3, 3), activation='relu', input_shape=(224, 224, 3)),\n",
    "        layers.MaxPooling2D((2, 2)),\n",
    "        layers.Flatten(),\n",
    "        layers.Dense(1, activation='sigmoid')\n",
    "    ])\n",
    "\n",
    "    model.compile(optimizer='adam', loss='binary_crossentropy', metrics=['accuracy'])\n",
    "\n",
    "    return model"
   ]
  },
  {
   "cell_type": "code",
   "execution_count": 3,
   "id": "16b54ea1",
   "metadata": {},
   "outputs": [
    {
     "name": "stdout",
     "output_type": "stream",
     "text": [
      "Epoch 1/10\n",
      "7/7 [==============================] - 4s 551ms/step - loss: 2.7611 - accuracy: 0.5955 - val_loss: 0.3620 - val_accuracy: 0.8750\n",
      "Epoch 2/10\n",
      "7/7 [==============================] - 3s 471ms/step - loss: 0.2826 - accuracy: 0.8864 - val_loss: 0.3398 - val_accuracy: 0.8929\n",
      "Epoch 3/10\n",
      "7/7 [==============================] - 3s 485ms/step - loss: 0.1735 - accuracy: 0.9364 - val_loss: 0.4515 - val_accuracy: 0.8929\n",
      "Epoch 4/10\n",
      "7/7 [==============================] - 3s 463ms/step - loss: 0.0971 - accuracy: 0.9773 - val_loss: 0.1906 - val_accuracy: 0.9107\n",
      "Epoch 5/10\n",
      "7/7 [==============================] - 3s 450ms/step - loss: 0.0536 - accuracy: 0.9864 - val_loss: 0.2501 - val_accuracy: 0.9107\n",
      "Epoch 6/10\n",
      "7/7 [==============================] - 3s 427ms/step - loss: 0.0501 - accuracy: 0.9773 - val_loss: 0.0773 - val_accuracy: 0.9464\n",
      "Epoch 7/10\n",
      "7/7 [==============================] - 3s 434ms/step - loss: 0.0140 - accuracy: 1.0000 - val_loss: 0.1886 - val_accuracy: 0.9286\n",
      "Epoch 8/10\n",
      "7/7 [==============================] - 3s 415ms/step - loss: 0.0154 - accuracy: 0.9955 - val_loss: 0.0601 - val_accuracy: 0.9643\n",
      "Epoch 9/10\n",
      "7/7 [==============================] - 3s 441ms/step - loss: 0.0168 - accuracy: 0.9955 - val_loss: 0.1630 - val_accuracy: 0.9286\n",
      "Epoch 10/10\n",
      "7/7 [==============================] - 3s 442ms/step - loss: 0.0125 - accuracy: 0.9955 - val_loss: 0.0680 - val_accuracy: 0.9821\n",
      "INFO:tensorflow:Assets written to: cnn.pb\\assets\n"
     ]
    },
    {
     "name": "stderr",
     "output_type": "stream",
     "text": [
      "INFO:tensorflow:Assets written to: cnn.pb\\assets\n"
     ]
    },
    {
     "name": "stdout",
     "output_type": "stream",
     "text": [
      "2/2 [==============================] - 0s 90ms/step - loss: 0.0680 - accuracy: 0.9821\n",
      "Test loss: 0.06800895184278488, Test accuracy: 0.9821428656578064\n"
     ]
    }
   ],
   "source": [
    "# Function to train the model\n",
    "def train_model(model, train_data, train_labels, test_data, test_labels):\n",
    "    model.fit(train_data, train_labels, epochs=10, validation_data=(test_data, test_labels))\n",
    "    \n",
    "    # Save the model\n",
    "    model.save('cnn.pb')\n",
    "    \n",
    "    return model\n",
    "\n",
    "# Function to evaluate the model\n",
    "def evaluate_model(model, test_data, test_labels):\n",
    "    loss, accuracy = model.evaluate(test_data, test_labels)\n",
    "    print(f'Test loss: {loss}, Test accuracy: {accuracy}')\n",
    "\n",
    "# Load data\n",
    "train_data, test_data, train_labels, test_labels = load_data('dataset')\n",
    "\n",
    "# Create model\n",
    "model = create_model()\n",
    "\n",
    "# Train model\n",
    "model = train_model(model, train_data, train_labels, test_data, test_labels)\n",
    "\n",
    "# Evaluate model\n",
    "evaluate_model(model, test_data, test_labels)"
   ]
  },
  {
   "cell_type": "code",
   "execution_count": 6,
   "id": "e2de0ac9",
   "metadata": {},
   "outputs": [
    {
     "ename": "NameError",
     "evalue": "name 'history' is not defined",
     "output_type": "error",
     "traceback": [
      "\u001b[1;31m---------------------------------------------------------------------------\u001b[0m",
      "\u001b[1;31mNameError\u001b[0m                                 Traceback (most recent call last)",
      "Cell \u001b[1;32mIn[6], line 10\u001b[0m\n\u001b[0;32m      8\u001b[0m \u001b[38;5;28;01mimport\u001b[39;00m \u001b[38;5;21;01mmatplotlib\u001b[39;00m\u001b[38;5;21;01m.\u001b[39;00m\u001b[38;5;21;01mpyplot\u001b[39;00m \u001b[38;5;28;01mas\u001b[39;00m \u001b[38;5;21;01mplt\u001b[39;00m\n\u001b[0;32m      9\u001b[0m \u001b[38;5;66;03m# Plot training accuracy\u001b[39;00m\n\u001b[1;32m---> 10\u001b[0m plt\u001b[38;5;241m.\u001b[39mplot(history\u001b[38;5;241m.\u001b[39mhistory[\u001b[38;5;124m'\u001b[39m\u001b[38;5;124maccuracy\u001b[39m\u001b[38;5;124m'\u001b[39m], label\u001b[38;5;241m=\u001b[39m\u001b[38;5;124m'\u001b[39m\u001b[38;5;124mTraining Accuracy\u001b[39m\u001b[38;5;124m'\u001b[39m)\n\u001b[0;32m     11\u001b[0m plt\u001b[38;5;241m.\u001b[39mplot(history\u001b[38;5;241m.\u001b[39mhistory[\u001b[38;5;124m'\u001b[39m\u001b[38;5;124mval_accuracy\u001b[39m\u001b[38;5;124m'\u001b[39m], label\u001b[38;5;241m=\u001b[39m\u001b[38;5;124m'\u001b[39m\u001b[38;5;124mValidation Accuracy\u001b[39m\u001b[38;5;124m'\u001b[39m)\n\u001b[0;32m     12\u001b[0m plt\u001b[38;5;241m.\u001b[39mxlabel(\u001b[38;5;124m'\u001b[39m\u001b[38;5;124mEpoch\u001b[39m\u001b[38;5;124m'\u001b[39m)\n",
      "\u001b[1;31mNameError\u001b[0m: name 'history' is not defined"
     ]
    }
   ],
   "source": [
    "import cv2\n",
    "import numpy as np\n",
    "import os\n",
    "import glob\n",
    "from tensorflow import keras\n",
    "from tensorflow.keras import layers\n",
    "from sklearn.model_selection import train_test_split\n",
    "import matplotlib.pyplot as plt\n",
    "# Plot training accuracy\n",
    "plt.plot(history.history['accuracy'], label='Training Accuracy')\n",
    "plt.plot(history.history['val_accuracy'], label='Validation Accuracy')\n",
    "plt.xlabel('Epoch')\n",
    "plt.ylabel('Accuracy')\n",
    "plt.title('Training and Validation Accuracy')\n",
    "plt.legend()\n",
    "plt.show()"
   ]
  },
  {
   "cell_type": "code",
   "execution_count": null,
   "id": "4ffab169",
   "metadata": {},
   "outputs": [],
   "source": []
  }
 ],
 "metadata": {
  "kernelspec": {
   "display_name": "Python 3 (ipykernel)",
   "language": "python",
   "name": "python3"
  },
  "language_info": {
   "codemirror_mode": {
    "name": "ipython",
    "version": 3
   },
   "file_extension": ".py",
   "mimetype": "text/x-python",
   "name": "python",
   "nbconvert_exporter": "python",
   "pygments_lexer": "ipython3",
   "version": "3.11.3"
  }
 },
 "nbformat": 4,
 "nbformat_minor": 5
}
