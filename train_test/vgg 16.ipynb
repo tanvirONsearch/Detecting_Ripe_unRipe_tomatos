{
 "cells": [
  {
   "cell_type": "code",
   "execution_count": 2,
   "id": "01d2475c",
   "metadata": {},
   "outputs": [],
   "source": [
    "import cv2\n",
    "import numpy as np\n",
    "import os\n",
    "import glob\n",
    "import matplotlib.pyplot as plt\n",
    "from tensorflow import keras\n",
    "from tensorflow.keras import layers\n",
    "from tensorflow.keras.applications import VGG16\n",
    "from sklearn.model_selection import train_test_split"
   ]
  },
  {
   "cell_type": "code",
   "execution_count": null,
   "id": "52018b8d",
   "metadata": {},
   "outputs": [],
   "source": [
    "rf = Roboflow(api_key=\"MpvsUqlZ6XI3YRK7mo3G\")\n",
    "project = rf.workspace(\"file\").project(\"romato\")\n",
    "dataset = project.version(2).download(\"yolov9\")"
   ]
  },
  {
   "cell_type": "code",
   "execution_count": 3,
   "id": "3df98590",
   "metadata": {},
   "outputs": [],
   "source": [
    "# Function to load and preprocess images\n",
    "def load_data(path):\n",
    "    images = []\n",
    "    labels = []\n",
    "\n",
    "    # Load ripe tomatoes images\n",
    "    for file in glob.glob(os.path.join(path, 'Images', 'Riped tomato_*.jpeg')):\n",
    "        img = cv2.imread(file)\n",
    "        img = cv2.resize(img, (224, 224))\n",
    "        images.append(img)\n",
    "        labels.append(1)  # label 1 for ripe tomatoes\n",
    "\n",
    "    # Load unripe tomatoes images\n",
    "    for file in glob.glob(os.path.join(path, 'Images', 'unriped tomato_*.jpeg')):\n",
    "        img = cv2.imread(file)\n",
    "        img = cv2.resize(img, (224, 224))\n",
    "        images.append(img)\n",
    "        labels.append(0)  # label 0 for unripe tomatoes\n",
    "\n",
    "    # Convert to numpy arrays and normalize images to 0-1 range\n",
    "    images = np.array(images) / 255.0\n",
    "    labels = np.array(labels)\n",
    "\n",
    "    # Split data into training and testing sets\n",
    "    train_data, test_data, train_labels, test_labels = train_test_split(images, labels, test_size=0.2, random_state=42)\n",
    "\n",
    "    return train_data, test_data, train_labels, test_labels"
   ]
  },
  {
   "cell_type": "code",
   "execution_count": 4,
   "id": "9914d499",
   "metadata": {},
   "outputs": [],
   "source": [
    "# Function to create the model\n",
    "def create_model():\n",
    "    # Load VGG16 model with pre-trained weights, excluding the top (fully connected) layers\n",
    "    base_model = VGG16(weights='imagenet', include_top=False, input_shape=(224, 224, 3))\n",
    "    \n",
    "    # Freeze the convolutional layers\n",
    "    for layer in base_model.layers:\n",
    "        layer.trainable = False\n",
    "    \n",
    "    model = keras.Sequential([\n",
    "        base_model,\n",
    "        layers.Flatten(),\n",
    "        layers.Dense(256, activation='relu'),\n",
    "        layers.Dropout(0.5),\n",
    "        layers.Dense(1, activation='sigmoid')\n",
    "    ])\n",
    "\n",
    "    model.compile(optimizer='adam', loss='binary_crossentropy', metrics=['accuracy'])\n",
    "\n",
    "    return model"
   ]
  },
  {
   "cell_type": "code",
   "execution_count": 5,
   "id": "1640a86d",
   "metadata": {},
   "outputs": [
    {
     "name": "stdout",
     "output_type": "stream",
     "text": [
      "Epoch 1/10\n",
      "7/7 [==============================] - 24s 3s/step - loss: 1.0832 - accuracy: 0.6818 - val_loss: 0.2261 - val_accuracy: 0.9107\n",
      "Epoch 2/10\n",
      "7/7 [==============================] - 24s 4s/step - loss: 0.3025 - accuracy: 0.9045 - val_loss: 0.1980 - val_accuracy: 0.9464\n",
      "Epoch 3/10\n",
      "7/7 [==============================] - 25s 4s/step - loss: 0.1013 - accuracy: 0.9636 - val_loss: 0.1761 - val_accuracy: 0.9464\n",
      "Epoch 4/10\n",
      "7/7 [==============================] - 25s 4s/step - loss: 0.0755 - accuracy: 0.9773 - val_loss: 0.2716 - val_accuracy: 0.9464\n",
      "Epoch 5/10\n",
      "7/7 [==============================] - 25s 4s/step - loss: 0.0385 - accuracy: 0.9864 - val_loss: 0.1978 - val_accuracy: 0.9464\n",
      "Epoch 6/10\n",
      "7/7 [==============================] - 25s 4s/step - loss: 0.0182 - accuracy: 0.9955 - val_loss: 0.1900 - val_accuracy: 0.9643\n",
      "Epoch 7/10\n",
      "7/7 [==============================] - 25s 4s/step - loss: 0.0202 - accuracy: 0.9955 - val_loss: 0.2667 - val_accuracy: 0.9464\n",
      "Epoch 8/10\n",
      "7/7 [==============================] - 25s 4s/step - loss: 0.0058 - accuracy: 1.0000 - val_loss: 0.2129 - val_accuracy: 0.9643\n",
      "Epoch 9/10\n",
      "7/7 [==============================] - 25s 4s/step - loss: 0.0483 - accuracy: 0.9955 - val_loss: 0.2182 - val_accuracy: 0.9643\n",
      "Epoch 10/10\n",
      "7/7 [==============================] - 25s 4s/step - loss: 0.0167 - accuracy: 0.9955 - val_loss: 0.3126 - val_accuracy: 0.9464\n",
      "INFO:tensorflow:Assets written to: cnn_vgg16.pb\\assets\n"
     ]
    },
    {
     "name": "stderr",
     "output_type": "stream",
     "text": [
      "INFO:tensorflow:Assets written to: cnn_vgg16.pb\\assets\n"
     ]
    },
    {
     "name": "stdout",
     "output_type": "stream",
     "text": [
      "2/2 [==============================] - 5s 2s/step - loss: 0.3126 - accuracy: 0.9464\n",
      "Test loss: 0.3126041889190674, Test accuracy: 0.9464285969734192\n"
     ]
    }
   ],
   "source": [
    "# Function to train the model\n",
    "def train_model(model, train_data, train_labels, test_data, test_labels):\n",
    "    history = model.fit(train_data, train_labels, epochs=10, validation_data=(test_data, test_labels))\n",
    "    \n",
    "    # Save the model\n",
    "    model.save('cnn_vgg16.pb')\n",
    "    \n",
    "    return model, history\n",
    "\n",
    "# Function to evaluate the model\n",
    "def evaluate_model(model, test_data, test_labels):\n",
    "    loss, accuracy = model.evaluate(test_data, test_labels)\n",
    "    print(f'Test loss: {loss}, Test accuracy: {accuracy}')\n",
    "\n",
    "# Load data\n",
    "train_data, test_data, train_labels, test_labels = load_data('dataset')\n",
    "\n",
    "# Create model\n",
    "model = create_model()\n",
    "\n",
    "# Train model\n",
    "model, history = train_model(model, train_data, train_labels, test_data, test_labels)\n",
    "\n",
    "# Evaluate model\n",
    "evaluate_model(model, test_data, test_labels)"
   ]
  },
  {
   "cell_type": "code",
   "execution_count": 6,
   "id": "a8e67dd1",
   "metadata": {},
   "outputs": [
    {
     "data": {
      "image/png": "[encoded data removed]",
      "text/plain": [
       "<Figure size 640x480 with 1 Axes>"
      ]
     },
     "metadata": {},
     "output_type": "display_data"
    }
   ],
   "source": [
    "# Plot training accuracy and validation accuracy\n",
    "plt.plot(history.history['accuracy'], label='Training Accuracy')\n",
    "plt.plot(history.history['val_accuracy'], label='Validation Accuracy')\n",
    "plt.xlabel('Epoch')\n",
    "plt.ylabel('Accuracy')\n",
    "plt.legend()\n",
    "plt.show()"
   ]
  },
  {
   "cell_type": "code",
   "execution_count": null,
   "id": "730b257e",
   "metadata": {},
   "outputs": [],
   "source": []
  }
 ],
 "metadata": {
  "kernelspec": {
   "display_name": "Python 3 (ipykernel)",
   "language": "python",
   "name": "python3"
  },
  "language_info": {
   "codemirror_mode": {
    "name": "ipython",
    "version": 3
   },
   "file_extension": ".py",
   "mimetype": "text/x-python",
   "name": "python",
   "nbconvert_exporter": "python",
   "pygments_lexer": "ipython3",
   "version": "3.11.3"
  }
 },
 "nbformat": 4,
 "nbformat_minor": 5
}
